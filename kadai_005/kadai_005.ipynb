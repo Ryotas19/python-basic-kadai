{
  "nbformat": 4,
  "nbformat_minor": 0,
  "metadata": {
    "colab": {
      "provenance": []
    },
    "kernelspec": {
      "name": "python3",
      "display_name": "Python 3"
    },
    "language_info": {
      "name": "python"
    }
  },
  "cells": [
    {
      "cell_type": "code",
      "execution_count": 1,
      "metadata": {
        "colab": {
          "base_uri": "https://localhost:8080/"
        },
        "id": "5X0bpYNyfBPN",
        "outputId": "0bd518a4-acf4-44ec-d3f4-9b6462c286bf"
      },
      "outputs": [
        {
          "output_type": "stream",
          "name": "stdout",
          "text": [
            "75.0cm²\n"
          ]
        }
      ],
      "source": [
        "# 台形の各辺と高さ（単位はcm）\n",
        "top = 10\n",
        "bottom = 20\n",
        "height = 5\n",
        "\n",
        "# 面積の計算（台形の面積 =（上辺＋下辺）× 高さ ÷ 2）\n",
        "area = (top + bottom) * height / 2\n",
        "\n",
        "# 結果を「◯◯cm²」の形式で出力\n",
        "print(f\"{area}cm²\")\n"
      ]
    }
  ]
}