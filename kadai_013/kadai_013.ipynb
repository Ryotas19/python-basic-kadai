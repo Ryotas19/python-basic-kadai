{
  "nbformat": 4,
  "nbformat_minor": 0,
  "metadata": {
    "colab": {
      "provenance": []
    },
    "kernelspec": {
      "name": "python3",
      "display_name": "Python 3"
    },
    "language_info": {
      "name": "python"
    }
  },
  "cells": [
    {
      "cell_type": "code",
      "execution_count": 2,
      "metadata": {
        "colab": {
          "base_uri": "https://localhost:8080/"
        },
        "id": "v-qQpkD-mFYN",
        "outputId": "3cb62aff-d2c8-407a-da7e-8432e61cc8b1"
      },
      "outputs": [
        {
          "output_type": "stream",
          "name": "stdout",
          "text": [
            "税込価格は None 円です\n"
          ]
        }
      ],
      "source": [
        "# 消費税込みの価格を計算する関数\n",
        "def calculate_tax_included_price(price, tax_rate):\n",
        "    tax_included = price + (price * tax_rate / 100)\n",
        "    return tax_included\n",
        "\n",
        "# 関数を呼び出して計算\n",
        "price = 110           # 商品の金額\n",
        "tax_rate = 10         # 消費税（%）\n",
        "\n",
        "# 戻り値を受け取って表示\n",
        "total_price = calculate_tax_included_price(price, tax_rate)\n",
        "print(f\"税込価格は {total_price} 円です\")\n"
      ]
    },
    {
      "cell_type": "code",
      "source": [],
      "metadata": {
        "id": "AK4v6HG_mXEc"
      },
      "execution_count": null,
      "outputs": []
    }
  ]
}