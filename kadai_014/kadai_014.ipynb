{
  "nbformat": 4,
  "nbformat_minor": 0,
  "metadata": {
    "colab": {
      "provenance": []
    },
    "kernelspec": {
      "name": "python3",
      "display_name": "Python 3"
    },
    "language_info": {
      "name": "python"
    }
  },
  "cells": [
    {
      "cell_type": "code",
      "execution_count": 2,
      "metadata": {
        "colab": {
          "base_uri": "https://localhost:8080/"
        },
        "id": "4StZJC0KpaNX",
        "outputId": "1f33b2ef-6f05-4bd8-d36f-033cd28c57ee"
      },
      "outputs": [
        {
          "output_type": "stream",
          "name": "stdout",
          "text": [
            "330.0\n"
          ]
        }
      ],
      "source": [
        "price1 = 100\n",
        "price2 = 200\n",
        "tax = 1.1\n",
        "\n",
        "def total():\n",
        "    return price1 + price2\n",
        "\n",
        "print (total() * tax)"
      ]
    },
    {
      "cell_type": "code",
      "source": [],
      "metadata": {
        "id": "FYVpWQhDpa7z"
      },
      "execution_count": null,
      "outputs": []
    }
  ]
}