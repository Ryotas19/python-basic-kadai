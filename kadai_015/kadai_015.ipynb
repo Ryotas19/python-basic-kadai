{
  "nbformat": 4,
  "nbformat_minor": 0,
  "metadata": {
    "colab": {
      "provenance": []
    },
    "kernelspec": {
      "name": "python3",
      "display_name": "Python 3"
    },
    "language_info": {
      "name": "python"
    }
  },
  "cells": [
    {
      "cell_type": "code",
      "execution_count": 3,
      "metadata": {
        "colab": {
          "base_uri": "https://localhost:8080/"
        },
        "id": "4StZJC0KpaNX",
        "outputId": "b95ad1b6-4c47-464b-ba10-b1c269ae8e2b"
      },
      "outputs": [
        {
          "output_type": "stream",
          "name": "stdout",
          "text": [
            "名前: 田中太郎\n",
            "年齢: 25歳\n"
          ]
        }
      ],
      "source": [
        "# Humanクラスの定義\n",
        "class Human:\n",
        "    def __init__(self, name, age):\n",
        "        self.name = name  # 属性: 名前\n",
        "        self.age = age    # 属性: 年齢\n",
        "\n",
        "    def printinfo(self):\n",
        "        print(f\"名前: {self.name}\")\n",
        "        print(f\"年齢: {self.age}歳\")\n",
        "\n",
        "# Humanクラスのインスタンスを作成して変数に代入\n",
        "person = Human(\"田中太郎\", 25)\n",
        "\n",
        "# メソッドを使って情報を出力\n",
        "person.printinfo()\n"
      ]
    },
    {
      "cell_type": "code",
      "source": [],
      "metadata": {
        "id": "FYVpWQhDpa7z"
      },
      "execution_count": null,
      "outputs": []
    }
  ]
}