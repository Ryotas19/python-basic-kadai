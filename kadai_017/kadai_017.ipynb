{
  "nbformat": 4,
  "nbformat_minor": 0,
  "metadata": {
    "colab": {
      "provenance": []
    },
    "kernelspec": {
      "name": "python3",
      "display_name": "Python 3"
    },
    "language_info": {
      "name": "python"
    }
  },
  "cells": [
    {
      "cell_type": "code",
      "execution_count": 4,
      "metadata": {
        "colab": {
          "base_uri": "https://localhost:8080/"
        },
        "id": "4StZJC0KpaNX",
        "outputId": "8596504c-8fc9-4e8a-d3c8-bf3faa513f76"
      },
      "outputs": [
        {
          "output_type": "stream",
          "name": "stdout",
          "text": [
            "太郎さん（18歳）は大人ではありません。\n",
            "花子さん（22歳）は大人です。\n",
            "健一さん（20歳）は大人です。\n",
            "美咲さん（17歳）は大人ではありません。\n"
          ]
        }
      ],
      "source": [
        "# Humanクラスを定義\n",
        "class Human:\n",
        "    def __init__(self, name, age):\n",
        "        self.name = name\n",
        "        self.age = age\n",
        "\n",
        "    def check_adult(self):\n",
        "        if self.age >= 20:\n",
        "            print(f\"{self.name}さん（{self.age}歳）は大人です。\")\n",
        "        else:\n",
        "            print(f\"{self.name}さん（{self.age}歳）は大人ではありません。\")\n",
        "\n",
        "# Humanクラスのインスタンスを複数作成し、リストに追加\n",
        "people = [\n",
        "    Human(\"太郎\", 18),\n",
        "    Human(\"花子\", 22),\n",
        "    Human(\"健一\", 20),\n",
        "    Human(\"美咲\", 17)\n",
        "]\n",
        "\n",
        "# 繰り返し処理でcheck_adultメソッドを実行\n",
        "for person in people:\n",
        "    person.check_adult()\n"
      ]
    },
    {
      "cell_type": "code",
      "source": [],
      "metadata": {
        "id": "FYVpWQhDpa7z"
      },
      "execution_count": null,
      "outputs": []
    }
  ]
}